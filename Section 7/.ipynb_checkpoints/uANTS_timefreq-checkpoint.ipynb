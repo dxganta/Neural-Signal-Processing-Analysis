{
 "cells": [
  {
   "cell_type": "code",
   "execution_count": 1,
   "id": "1f52b087",
   "metadata": {},
   "outputs": [],
   "source": [
    "import sys\n",
    "sys.path.insert(1, '../')\n",
    "from utils import *\n",
    "import numpy as np\n",
    "import matplotlib.pyplot as plt\n",
    "import cmath\n",
    "from scipy.io import loadmat\n",
    "from numpy.fft import fft, ifft\n",
    "import random\n",
    "import matplotlib as mpl\n",
    "from attributedict.collections import AttributeDict\n",
    "\n",
    "\n",
    "\n",
    "mpl.rcParams['figure.figsize'] = (19, 6) \n",
    "pi = np.pi"
   ]
  },
  {
   "cell_type": "code",
   "execution_count": 2,
   "id": "3031a1c1",
   "metadata": {},
   "outputs": [],
   "source": [
    "\n",
    "# %  VIDEO: Convolve real data with a Gaussian\n"
   ]
  },
  {
   "cell_type": "code",
   "execution_count": 10,
   "id": "af461812",
   "metadata": {},
   "outputs": [
    {
     "ename": "SyntaxError",
     "evalue": "invalid syntax (3977178512.py, line 19)",
     "output_type": "error",
     "traceback": [
      "\u001b[0;36m  Input \u001b[0;32mIn [10]\u001b[0;36m\u001b[0m\n\u001b[0;31m    nConv = ndata+nkern - 1;% length of result of convolution\u001b[0m\n\u001b[0m                            ^\u001b[0m\n\u001b[0;31mSyntaxError\u001b[0m\u001b[0;31m:\u001b[0m invalid syntax\n"
     ]
    }
   ],
   "source": [
    "data = loadmat(\"../v1_laminar.mat\")\n",
    "\n",
    "srate = data['srate']\n",
    "# % signal will be ERP from channel 7\n",
    "signal = np.mean(data['csd'][6, :, :], axis=1)\n",
    "\n",
    "# % create a Gaussian\n",
    "h = .01; # FWHM in seconds\n",
    "\n",
    "gtime =  np.arange(-1,1,1/srate)\n",
    "gaus = np.exp( -4*np.log(2)*gtime**2 / h**2 );\n",
    "gaus = gaus/sum(gaus) #amplitude normalization\n",
    "\n",
    "\n",
    "# %%%% run convolution\n",
    "# % Step 1: N's of convolution\n",
    "ndata = len(signal);\n",
    "nkern = len(gaus);\n",
    "nConv = ndata+nkern - 1# length of result of convolution\n",
    "halfK = nkern//2\n"
   ]
  },
  {
   "cell_type": "code",
   "execution_count": null,
   "id": "40f2651f",
   "metadata": {},
   "outputs": [],
   "source": []
  }
 ],
 "metadata": {
  "kernelspec": {
   "display_name": "Python 3 (ipykernel)",
   "language": "python",
   "name": "python3"
  },
  "language_info": {
   "codemirror_mode": {
    "name": "ipython",
    "version": 3
   },
   "file_extension": ".py",
   "mimetype": "text/x-python",
   "name": "python",
   "nbconvert_exporter": "python",
   "pygments_lexer": "ipython3",
   "version": "3.10.4"
  }
 },
 "nbformat": 4,
 "nbformat_minor": 5
}
