{
 "cells": [
  {
   "cell_type": "code",
   "execution_count": 26,
   "id": "5221c0ab",
   "metadata": {},
   "outputs": [],
   "source": [
    "import muselsl\n",
    "import vispy\n",
    "import pandas as pd\n",
    "import os"
   ]
  },
  {
   "cell_type": "code",
   "execution_count": 22,
   "id": "6c105b7a",
   "metadata": {},
   "outputs": [
    {
     "name": "stdout",
     "output_type": "stream",
     "text": [
      "Looking for a EEG stream...\r\n",
      "\u001b[0m\u001b[2m2023-04-12 14:42:24.344 (   0.735s) [          6A9083]      netinterfaces.cpp:91    INFO| \u001b[0mnetif 'lo0' (status: 32768, multicast: 1, broadcast: 0)\u001b[0m\r\n",
      "\u001b[0m\u001b[2m2023-04-12 14:42:24.344 (   0.735s) [          6A9083]      netinterfaces.cpp:91    INFO| \u001b[0mnetif 'lo0' (status: 32768, multicast: 1, broadcast: 0)\u001b[0m\r\n",
      "\u001b[0m\u001b[2m2023-04-12 14:42:24.344 (   0.735s) [          6A9083]      netinterfaces.cpp:102   INFO| \u001b[0m\tIPv4 addr: 7f000001\u001b[0m\r\n",
      "\u001b[0m\u001b[2m2023-04-12 14:42:24.344 (   0.735s) [          6A9083]      netinterfaces.cpp:91    INFO| \u001b[0mnetif 'lo0' (status: 32768, multicast: 1, broadcast: 0)\u001b[0m\r\n",
      "\u001b[0m\u001b[2m2023-04-12 14:42:24.344 (   0.735s) [          6A9083]      netinterfaces.cpp:105   INFO| \u001b[0m\tIPv6 addr: ::1\u001b[0m\r\n",
      "\u001b[0m\u001b[2m2023-04-12 14:42:24.344 (   0.735s) [          6A9083]      netinterfaces.cpp:91    INFO| \u001b[0mnetif 'lo0' (status: 32768, multicast: 1, broadcast: 0)\u001b[0m\r\n",
      "\u001b[0m\u001b[2m2023-04-12 14:42:24.344 (   0.735s) [          6A9083]      netinterfaces.cpp:105   INFO| \u001b[0m\tIPv6 addr: fe80::1%lo0\u001b[0m\r\n",
      "\u001b[0m\u001b[2m2023-04-12 14:42:24.344 (   0.735s) [          6A9083]      netinterfaces.cpp:91    INFO| \u001b[0mnetif 'gif0' (status: 32768, multicast: 0, broadcast: 0)\u001b[0m\r\n",
      "\u001b[0m\u001b[2m2023-04-12 14:42:24.344 (   0.735s) [          6A9083]      netinterfaces.cpp:91    INFO| \u001b[0mnetif 'stf0' (status: 0, multicast: 0, broadcast: 0)\u001b[0m\r\n",
      "\u001b[0m\u001b[2m2023-04-12 14:42:24.344 (   0.735s) [          6A9083]      netinterfaces.cpp:91    INFO| \u001b[0mnetif 'anpi0' (status: 32768, multicast: 1, broadcast: 2)\u001b[0m\r\n",
      "\u001b[0m\u001b[2m2023-04-12 14:42:24.344 (   0.735s) [          6A9083]      netinterfaces.cpp:91    INFO| \u001b[0mnetif 'anpi0' (status: 32768, multicast: 1, broadcast: 2)\u001b[0m\r\n",
      "\u001b[0m\u001b[2m2023-04-12 14:42:24.344 (   0.735s) [          6A9083]      netinterfaces.cpp:105   INFO| \u001b[0m\tIPv6 addr: fe80::c1e:fcff:fe37:a05f%anpi0\u001b[0m\r\n",
      "\u001b[0m\u001b[2m2023-04-12 14:42:24.344 (   0.735s) [          6A9083]      netinterfaces.cpp:91    INFO| \u001b[0mnetif 'anpi1' (status: 32768, multicast: 1, broadcast: 2)\u001b[0m\r\n",
      "\u001b[0m\u001b[2m2023-04-12 14:42:24.344 (   0.735s) [          6A9083]      netinterfaces.cpp:91    INFO| \u001b[0mnetif 'anpi1' (status: 32768, multicast: 1, broadcast: 2)\u001b[0m\r\n",
      "\u001b[0m\u001b[2m2023-04-12 14:42:24.344 (   0.735s) [          6A9083]      netinterfaces.cpp:105   INFO| \u001b[0m\tIPv6 addr: fe80::c1e:fcff:fe37:a060%anpi1\u001b[0m\r\n",
      "\u001b[0m\u001b[2m2023-04-12 14:42:24.345 (   0.735s) [          6A9083]      netinterfaces.cpp:91    INFO| \u001b[0mnetif 'en3' (status: 32768, multicast: 1, broadcast: 2)\u001b[0m\r\n",
      "\u001b[0m\u001b[2m2023-04-12 14:42:24.345 (   0.735s) [          6A9083]      netinterfaces.cpp:91    INFO| \u001b[0mnetif 'en4' (status: 32768, multicast: 1, broadcast: 2)\u001b[0m\r\n",
      "\u001b[0m\u001b[2m2023-04-12 14:42:24.345 (   0.735s) [          6A9083]      netinterfaces.cpp:91    INFO| \u001b[0mnetif 'en1' (status: 32768, multicast: 1, broadcast: 2)\u001b[0m\r\n",
      "\u001b[0m\u001b[2m2023-04-12 14:42:24.345 (   0.735s) [          6A9083]      netinterfaces.cpp:91    INFO| \u001b[0mnetif 'en2' (status: 32768, multicast: 1, broadcast: 2)\u001b[0m\r\n",
      "\u001b[0m\u001b[2m2023-04-12 14:42:24.345 (   0.735s) [          6A9083]      netinterfaces.cpp:91    INFO| \u001b[0mnetif 'bridge0' (status: 32768, multicast: 1, broadcast: 2)\u001b[0m\r\n",
      "\u001b[0m\u001b[2m2023-04-12 14:42:24.345 (   0.735s) [          6A9083]      netinterfaces.cpp:91    INFO| \u001b[0mnetif 'ap1' (status: 32768, multicast: 1, broadcast: 2)\u001b[0m\r\n",
      "\u001b[0m\u001b[2m2023-04-12 14:42:24.345 (   0.735s) [          6A9083]      netinterfaces.cpp:91    INFO| \u001b[0mnetif 'ap1' (status: 32768, multicast: 1, broadcast: 2)\u001b[0m\r\n",
      "\u001b[0m\u001b[2m2023-04-12 14:42:24.345 (   0.735s) [          6A9083]      netinterfaces.cpp:105   INFO| \u001b[0m\tIPv6 addr: fe80::f457:63ff:fed3:db9b%ap1\u001b[0m\r\n",
      "\u001b[0m\u001b[2m2023-04-12 14:42:24.345 (   0.735s) [          6A9083]      netinterfaces.cpp:91    INFO| \u001b[0mnetif 'en0' (status: 32768, multicast: 1, broadcast: 2)\u001b[0m\r\n",
      "\u001b[0m\u001b[2m2023-04-12 14:42:24.345 (   0.735s) [          6A9083]      netinterfaces.cpp:91    INFO| \u001b[0mnetif 'en0' (status: 32768, multicast: 1, broadcast: 2)\u001b[0m\r\n",
      "\u001b[0m\u001b[2m2023-04-12 14:42:24.345 (   0.735s) [          6A9083]      netinterfaces.cpp:105   INFO| \u001b[0m\tIPv6 addr: fe80::14b6:db3e:517a:2c72%en0\u001b[0m\r\n",
      "\u001b[0m\u001b[2m2023-04-12 14:42:24.345 (   0.735s) [          6A9083]      netinterfaces.cpp:91    INFO| \u001b[0mnetif 'en0' (status: 32768, multicast: 1, broadcast: 2)\u001b[0m\r\n",
      "\u001b[0m\u001b[2m2023-04-12 14:42:24.345 (   0.735s) [          6A9083]      netinterfaces.cpp:105   INFO| \u001b[0m\tIPv6 addr: 2401:4900:1c17:3272:483:eed5:e5b5:11c7\u001b[0m\r\n",
      "\u001b[0m\u001b[2m2023-04-12 14:42:24.345 (   0.735s) [          6A9083]      netinterfaces.cpp:91    INFO| \u001b[0mnetif 'en0' (status: 32768, multicast: 1, broadcast: 2)\u001b[0m\r\n",
      "\u001b[0m\u001b[2m2023-04-12 14:42:24.345 (   0.735s) [          6A9083]      netinterfaces.cpp:105   INFO| \u001b[0m\tIPv6 addr: 2401:4900:1c17:3272:edc3:fc54:eb5:4b20\u001b[0m\r\n",
      "\u001b[0m\u001b[2m2023-04-12 14:42:24.345 (   0.735s) [          6A9083]      netinterfaces.cpp:91    INFO| \u001b[0mnetif 'en0' (status: 32768, multicast: 1, broadcast: 2)\u001b[0m\r\n",
      "\u001b[0m\u001b[2m2023-04-12 14:42:24.345 (   0.735s) [          6A9083]      netinterfaces.cpp:102   INFO| \u001b[0m\tIPv4 addr: c0a80105\u001b[0m\r\n",
      "\u001b[0m\u001b[2m2023-04-12 14:42:24.345 (   0.736s) [          6A9083]      netinterfaces.cpp:91    INFO| \u001b[0mnetif 'awdl0' (status: 32768, multicast: 1, broadcast: 2)\u001b[0m\r\n",
      "\u001b[0m\u001b[2m2023-04-12 14:42:24.345 (   0.736s) [          6A9083]      netinterfaces.cpp:91    INFO| \u001b[0mnetif 'awdl0' (status: 32768, multicast: 1, broadcast: 2)\u001b[0m\r\n",
      "\u001b[0m\u001b[2m2023-04-12 14:42:24.345 (   0.736s) [          6A9083]      netinterfaces.cpp:105   INFO| \u001b[0m\tIPv6 addr: fe80::8c37:45ff:fe6f:d3a6%awdl0\u001b[0m\r\n",
      "\u001b[0m\u001b[2m2023-04-12 14:42:24.345 (   0.736s) [          6A9083]      netinterfaces.cpp:91    INFO| \u001b[0mnetif 'llw0' (status: 32768, multicast: 1, broadcast: 2)\u001b[0m\r\n",
      "\u001b[0m\u001b[2m2023-04-12 14:42:24.345 (   0.736s) [          6A9083]      netinterfaces.cpp:91    INFO| \u001b[0mnetif 'llw0' (status: 32768, multicast: 1, broadcast: 2)\u001b[0m\r\n",
      "\u001b[0m\u001b[2m2023-04-12 14:42:24.345 (   0.736s) [          6A9083]      netinterfaces.cpp:105   INFO| \u001b[0m\tIPv6 addr: fe80::8c37:45ff:fe6f:d3a6%llw0\u001b[0m\r\n",
      "\u001b[0m\u001b[2m2023-04-12 14:42:24.345 (   0.736s) [          6A9083]      netinterfaces.cpp:91    INFO| \u001b[0mnetif 'utun0' (status: 32768, multicast: 1, broadcast: 0)\u001b[0m\r\n",
      "\u001b[0m\u001b[2m2023-04-12 14:42:24.345 (   0.736s) [          6A9083]      netinterfaces.cpp:91    INFO| \u001b[0mnetif 'utun0' (status: 32768, multicast: 1, broadcast: 0)\u001b[0m\r\n",
      "\u001b[0m\u001b[2m2023-04-12 14:42:24.345 (   0.736s) [          6A9083]      netinterfaces.cpp:105   INFO| \u001b[0m\tIPv6 addr: fe80::e84c:566c:a000:d9e4%utun0\u001b[0m\r\n",
      "\u001b[0m\u001b[2m2023-04-12 14:42:24.345 (   0.736s) [          6A9083]      netinterfaces.cpp:91    INFO| \u001b[0mnetif 'utun1' (status: 32768, multicast: 1, broadcast: 0)\u001b[0m\r\n",
      "\u001b[0m\u001b[2m2023-04-12 14:42:24.345 (   0.736s) [          6A9083]      netinterfaces.cpp:91    INFO| \u001b[0mnetif 'utun1' (status: 32768, multicast: 1, broadcast: 0)\u001b[0m\r\n",
      "\u001b[0m\u001b[2m2023-04-12 14:42:24.345 (   0.736s) [          6A9083]      netinterfaces.cpp:105   INFO| \u001b[0m\tIPv6 addr: fe80::ce81:b1c:bd2c:69e%utun1\u001b[0m\r\n",
      "\u001b[0m\u001b[2m2023-04-12 14:42:24.345 (   0.736s) [          6A9083]      netinterfaces.cpp:91    INFO| \u001b[0mnetif 'utun2' (status: 32768, multicast: 1, broadcast: 0)\u001b[0m\r\n",
      "\u001b[0m\u001b[2m2023-04-12 14:42:24.345 (   0.736s) [          6A9083]      netinterfaces.cpp:91    INFO| \u001b[0mnetif 'utun2' (status: 32768, multicast: 1, broadcast: 0)\u001b[0m\r\n",
      "\u001b[0m\u001b[2m2023-04-12 14:42:24.345 (   0.736s) [          6A9083]      netinterfaces.cpp:105   INFO| \u001b[0m\tIPv6 addr: fe80::3bac:aaba:fef8:ba04%utun2\u001b[0m\r\n",
      "\u001b[0m\u001b[2m2023-04-12 14:42:24.345 (   0.736s) [          6A9083]      netinterfaces.cpp:91    INFO| \u001b[0mnetif 'utun3' (status: 32768, multicast: 1, broadcast: 0)\u001b[0m\r\n",
      "\u001b[0m\u001b[2m2023-04-12 14:42:24.345 (   0.736s) [          6A9083]      netinterfaces.cpp:91    INFO| \u001b[0mnetif 'utun3' (status: 32768, multicast: 1, broadcast: 0)\u001b[0m\r\n",
      "\u001b[0m\u001b[2m2023-04-12 14:42:24.345 (   0.736s) [          6A9083]      netinterfaces.cpp:105   INFO| \u001b[0m\tIPv6 addr: fe80::588e:8ec9:1f17:ada%utun3\u001b[0m\r\n",
      "\u001b[0m\u001b[2m2023-04-12 14:42:24.345 (   0.736s) [          6A9083]      netinterfaces.cpp:91    INFO| \u001b[0mnetif 'utun4' (status: 32768, multicast: 1, broadcast: 0)\u001b[0m\r\n",
      "\u001b[0m\u001b[2m2023-04-12 14:42:24.345 (   0.736s) [          6A9083]      netinterfaces.cpp:91    INFO| \u001b[0mnetif 'utun4' (status: 32768, multicast: 1, broadcast: 0)\u001b[0m\r\n",
      "\u001b[0m\u001b[2m2023-04-12 14:42:24.345 (   0.736s) [          6A9083]      netinterfaces.cpp:105   INFO| \u001b[0m\tIPv6 addr: fe80::f192:ac86:9022:4964%utun4\u001b[0m\r\n",
      "\u001b[0m\u001b[2m2023-04-12 14:42:24.345 (   0.736s) [          6A9083]         api_config.cpp:270   INFO| \u001b[0mLoaded default config\u001b[0m\r\n",
      "Started acquiring data.\r\n",
      "\u001b[0m\u001b[2m2023-04-12 14:42:24.347 (   0.737s) [          6A9083]             common.cpp:65    INFO| \u001b[0mgit:v1.16.1/branch:master/build:Release/compiler:AppleClang-14.0.0.14000029/link:SHARED\u001b[0m\r\n",
      "Looking for a Markers stream...\r\n"
     ]
    },
    {
     "name": "stdout",
     "output_type": "stream",
     "text": [
      "Can't find Markers stream.\n",
      "Start recording at time t=1681290749.352\n",
      "Time correction:  -0.00018541701138019562\n",
      "Time correction:  -0.0001686462201178074\n",
      "Done - wrote file: /Users/diganta/Desktop/BCI/eeg-frequency-bands/EEG_recording_2023-04-12-09.12.24.csv\n"
     ]
    }
   ],
   "source": [
    "!muselsl record --duration 10"
   ]
  },
  {
   "cell_type": "code",
   "execution_count": 24,
   "id": "6aacbe1b",
   "metadata": {},
   "outputs": [
    {
     "name": "stdout",
     "output_type": "stream",
     "text": [
      "EEG_recording_2023-04-12-09.09.57.csv README.md\r\n",
      "EEG_recording_2023-04-12-09.11.08.csv eeg-bands.ipynb\r\n",
      "EEG_recording_2023-04-12-09.12.24.csv\r\n"
     ]
    }
   ],
   "source": [
    "!ls"
   ]
  },
  {
   "cell_type": "code",
   "execution_count": 34,
   "id": "8a90fc5b",
   "metadata": {},
   "outputs": [],
   "source": [
    "data_5s = pd.read_csv('EEG_recording_2023-04-12-09.09.57.csv', index_col='timestamps', usecols=[0,1,2,3,4])\n",
    "data_10s = pd.read_csv('EEG_recording_2023-04-12-09.12.24.csv', index_col='timestamps', usecols=[0,1,2,3,4])\n",
    "data_30s = pd.read_csv('EEG_recording_2023-04-12-09.09.57.csv', index_col='timestamps', usecols=[0,1,2,3,4])"
   ]
  },
  {
   "cell_type": "code",
   "execution_count": 35,
   "id": "7cad322a",
   "metadata": {},
   "outputs": [
    {
     "data": {
      "text/html": [
       "<div>\n",
       "<style scoped>\n",
       "    .dataframe tbody tr th:only-of-type {\n",
       "        vertical-align: middle;\n",
       "    }\n",
       "\n",
       "    .dataframe tbody tr th {\n",
       "        vertical-align: top;\n",
       "    }\n",
       "\n",
       "    .dataframe thead th {\n",
       "        text-align: right;\n",
       "    }\n",
       "</style>\n",
       "<table border=\"1\" class=\"dataframe\">\n",
       "  <thead>\n",
       "    <tr style=\"text-align: right;\">\n",
       "      <th></th>\n",
       "      <th>TP9</th>\n",
       "      <th>AF7</th>\n",
       "      <th>AF8</th>\n",
       "      <th>TP10</th>\n",
       "    </tr>\n",
       "    <tr>\n",
       "      <th>timestamps</th>\n",
       "      <th></th>\n",
       "      <th></th>\n",
       "      <th></th>\n",
       "      <th></th>\n",
       "    </tr>\n",
       "  </thead>\n",
       "  <tbody>\n",
       "    <tr>\n",
       "      <th>1.681291e+09</th>\n",
       "      <td>-26.855</td>\n",
       "      <td>-28.320</td>\n",
       "      <td>-39.062</td>\n",
       "      <td>-18.555</td>\n",
       "    </tr>\n",
       "    <tr>\n",
       "      <th>1.681291e+09</th>\n",
       "      <td>-21.484</td>\n",
       "      <td>-29.297</td>\n",
       "      <td>-32.227</td>\n",
       "      <td>-16.602</td>\n",
       "    </tr>\n",
       "    <tr>\n",
       "      <th>1.681291e+09</th>\n",
       "      <td>-21.484</td>\n",
       "      <td>-30.273</td>\n",
       "      <td>-30.273</td>\n",
       "      <td>-27.832</td>\n",
       "    </tr>\n",
       "    <tr>\n",
       "      <th>1.681291e+09</th>\n",
       "      <td>-20.020</td>\n",
       "      <td>-18.066</td>\n",
       "      <td>-33.691</td>\n",
       "      <td>-34.180</td>\n",
       "    </tr>\n",
       "    <tr>\n",
       "      <th>1.681291e+09</th>\n",
       "      <td>-13.672</td>\n",
       "      <td>-18.555</td>\n",
       "      <td>-35.156</td>\n",
       "      <td>-36.621</td>\n",
       "    </tr>\n",
       "  </tbody>\n",
       "</table>\n",
       "</div>"
      ],
      "text/plain": [
       "                 TP9     AF7     AF8    TP10\n",
       "timestamps                                  \n",
       "1.681291e+09 -26.855 -28.320 -39.062 -18.555\n",
       "1.681291e+09 -21.484 -29.297 -32.227 -16.602\n",
       "1.681291e+09 -21.484 -30.273 -30.273 -27.832\n",
       "1.681291e+09 -20.020 -18.066 -33.691 -34.180\n",
       "1.681291e+09 -13.672 -18.555 -35.156 -36.621"
      ]
     },
     "execution_count": 35,
     "metadata": {},
     "output_type": "execute_result"
    }
   ],
   "source": [
    "data_5s.head()"
   ]
  },
  {
   "cell_type": "code",
   "execution_count": 36,
   "id": "b7f4984d",
   "metadata": {},
   "outputs": [
    {
     "data": {
      "text/plain": [
       "['EEG_recording_2023-04-12-09.09.57.csv',\n",
       " 'EEG_recording_2023-04-12-09.11.08.csv',\n",
       " 'README.md',\n",
       " '.gitattributes',\n",
       " '.ipynb_checkpoints',\n",
       " '.git',\n",
       " 'eeg-bands.ipynb',\n",
       " 'EEG_recording_2023-04-12-09.12.24.csv']"
      ]
     },
     "execution_count": 36,
     "metadata": {},
     "output_type": "execute_result"
    }
   ],
   "source": [
    "os.listdir()"
   ]
  },
  {
   "cell_type": "code",
   "execution_count": null,
   "id": "25940b46",
   "metadata": {},
   "outputs": [],
   "source": []
  }
 ],
 "metadata": {
  "kernelspec": {
   "display_name": "Python 3 (ipykernel)",
   "language": "python",
   "name": "python3"
  },
  "language_info": {
   "codemirror_mode": {
    "name": "ipython",
    "version": 3
   },
   "file_extension": ".py",
   "mimetype": "text/x-python",
   "name": "python",
   "nbconvert_exporter": "python",
   "pygments_lexer": "ipython3",
   "version": "3.10.4"
  }
 },
 "nbformat": 4,
 "nbformat_minor": 5
}
