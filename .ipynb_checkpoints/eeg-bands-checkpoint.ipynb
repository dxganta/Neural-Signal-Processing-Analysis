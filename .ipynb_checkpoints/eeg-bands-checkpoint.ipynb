{
 "cells": [
  {
   "cell_type": "code",
   "execution_count": 1,
   "id": "bd7fd937",
   "metadata": {},
   "outputs": [],
   "source": [
    "import muselsl\n",
    "import vispy\n",
    "import pandas as pd\n",
    "import os\n",
    "import numpy as np\n",
    "from scipy.fft import fft\n",
    "import matplotlib.pyplot as plt\n",
    "import mne"
   ]
  },
  {
   "cell_type": "code",
   "execution_count": null,
   "id": "718d6537",
   "metadata": {},
   "outputs": [],
   "source": [
    "# steps\n",
    "# separate the eeg time data into frequency data\n",
    "# read the emotion classification paper on what to do next"
   ]
  },
  {
   "cell_type": "code",
   "execution_count": 5,
   "id": "5783577a",
   "metadata": {},
   "outputs": [],
   "source": [
    "data_5s = pd.read_csv('EEG_recording_2023-04-12-09.09.57.csv', index_col='timestamps', usecols=[0,1,2,3,4])\n",
    "data_10s = pd.read_csv('EEG_recording_2023-04-12-09.12.24.csv', index_col='timestamps', usecols=[0,1,2,3,4])\n",
    "data_30s = pd.read_csv('EEG_recording_2023-04-12-09.11.08.csv', index_col='timestamps', usecols=[0,1,2,3,4])\n",
    "nihala = pd.read_csv('data/nihala_2023-04-12-09.55.25.csv',  index_col='timestamps', usecols=[0,1,2,3,4])"
   ]
  },
  {
   "cell_type": "code",
   "execution_count": 8,
   "id": "c34ba05a",
   "metadata": {},
   "outputs": [
    {
     "data": {
      "text/html": [
       "<div>\n",
       "<style scoped>\n",
       "    .dataframe tbody tr th:only-of-type {\n",
       "        vertical-align: middle;\n",
       "    }\n",
       "\n",
       "    .dataframe tbody tr th {\n",
       "        vertical-align: top;\n",
       "    }\n",
       "\n",
       "    .dataframe thead th {\n",
       "        text-align: right;\n",
       "    }\n",
       "</style>\n",
       "<table border=\"1\" class=\"dataframe\">\n",
       "  <thead>\n",
       "    <tr style=\"text-align: right;\">\n",
       "      <th></th>\n",
       "      <th>TP9</th>\n",
       "      <th>AF7</th>\n",
       "      <th>AF8</th>\n",
       "      <th>TP10</th>\n",
       "    </tr>\n",
       "    <tr>\n",
       "      <th>timestamps</th>\n",
       "      <th></th>\n",
       "      <th></th>\n",
       "      <th></th>\n",
       "      <th></th>\n",
       "    </tr>\n",
       "  </thead>\n",
       "  <tbody>\n",
       "    <tr>\n",
       "      <th>1.681291e+09</th>\n",
       "      <td>-26.855</td>\n",
       "      <td>-28.320</td>\n",
       "      <td>-39.062</td>\n",
       "      <td>-18.555</td>\n",
       "    </tr>\n",
       "    <tr>\n",
       "      <th>1.681291e+09</th>\n",
       "      <td>-21.484</td>\n",
       "      <td>-29.297</td>\n",
       "      <td>-32.227</td>\n",
       "      <td>-16.602</td>\n",
       "    </tr>\n",
       "    <tr>\n",
       "      <th>1.681291e+09</th>\n",
       "      <td>-21.484</td>\n",
       "      <td>-30.273</td>\n",
       "      <td>-30.273</td>\n",
       "      <td>-27.832</td>\n",
       "    </tr>\n",
       "    <tr>\n",
       "      <th>1.681291e+09</th>\n",
       "      <td>-20.020</td>\n",
       "      <td>-18.066</td>\n",
       "      <td>-33.691</td>\n",
       "      <td>-34.180</td>\n",
       "    </tr>\n",
       "    <tr>\n",
       "      <th>1.681291e+09</th>\n",
       "      <td>-13.672</td>\n",
       "      <td>-18.555</td>\n",
       "      <td>-35.156</td>\n",
       "      <td>-36.621</td>\n",
       "    </tr>\n",
       "  </tbody>\n",
       "</table>\n",
       "</div>"
      ],
      "text/plain": [
       "                 TP9     AF7     AF8    TP10\n",
       "timestamps                                  \n",
       "1.681291e+09 -26.855 -28.320 -39.062 -18.555\n",
       "1.681291e+09 -21.484 -29.297 -32.227 -16.602\n",
       "1.681291e+09 -21.484 -30.273 -30.273 -27.832\n",
       "1.681291e+09 -20.020 -18.066 -33.691 -34.180\n",
       "1.681291e+09 -13.672 -18.555 -35.156 -36.621"
      ]
     },
     "execution_count": 8,
     "metadata": {},
     "output_type": "execute_result"
    }
   ],
   "source": [
    "data_5s.head()"
   ]
  },
  {
   "cell_type": "code",
   "execution_count": 20,
   "id": "ae271d9f",
   "metadata": {},
   "outputs": [
    {
     "name": "stdout",
     "output_type": "stream",
     "text": [
      "Creating RawArray with float64 data, n_channels=4, n_times=6432\n",
      "    Range : 0 ... 6431 =      0.000 ...    25.121 secs\n",
      "Ready.\n"
     ]
    }
   ],
   "source": [
    "ch_names = ['TP9', 'AF7', 'AF8', 'TP10']\n",
    "sfreq = 256\n",
    "info = mne.create_info(ch_names = ch_names, sfreq = sfreq, ch_types='eeg')\n",
    "raw = mne.io.RawArray(data_30s.values.T, info)"
   ]
  },
  {
   "cell_type": "code",
   "execution_count": 17,
   "id": "ed7a0cfe",
   "metadata": {},
   "outputs": [],
   "source": [
    "# t = np.array(nihala.index)\n",
    "# x = np.array(nihala['TP9'])\n",
    "# X = fft(x)\n",
    "# # Plot the amplitude spectrum\n",
    "# freqs = np.fft.fftfreq(len(x), t[1]-t[0])\n",
    "# plt.plot(freqs[:len(freqs)//2], np.abs(X[:len(X)//2]))\n",
    "# plt.xlabel('Frequency (Hz)')\n",
    "# plt.ylabel('Amplitude')\n",
    "# plt.show()"
   ]
  },
  {
   "cell_type": "code",
   "execution_count": 23,
   "id": "cd6a9507",
   "metadata": {},
   "outputs": [
    {
     "ename": "AttributeError",
     "evalue": "module 'mne.time_frequency' has no attribute 'psd_multitaper'",
     "output_type": "error",
     "traceback": [
      "\u001b[0;31m---------------------------------------------------------------------------\u001b[0m",
      "\u001b[0;31mAttributeError\u001b[0m                            Traceback (most recent call last)",
      "Input \u001b[0;32mIn [23]\u001b[0m, in \u001b[0;36m<cell line: 1>\u001b[0;34m()\u001b[0m\n\u001b[0;32m----> 1\u001b[0m psds, freqs \u001b[38;5;241m=\u001b[39m \u001b[43mmne\u001b[49m\u001b[38;5;241;43m.\u001b[39;49m\u001b[43mtime_frequency\u001b[49m\u001b[38;5;241;43m.\u001b[39;49m\u001b[43mpsd_multitaper\u001b[49m(raw, fmin\u001b[38;5;241m=\u001b[39m\u001b[38;5;241m8\u001b[39m, fmax\u001b[38;5;241m=\u001b[39m\u001b[38;5;241m12\u001b[39m, tmin\u001b[38;5;241m=\u001b[39m\u001b[38;5;241m0\u001b[39m, tmax\u001b[38;5;241m=\u001b[39m\u001b[38;5;28;01mNone\u001b[39;00m, n_jobs\u001b[38;5;241m=\u001b[39m\u001b[38;5;241m1\u001b[39m)\n",
      "\u001b[0;31mAttributeError\u001b[0m: module 'mne.time_frequency' has no attribute 'psd_multitaper'"
     ]
    }
   ],
   "source": [
    "psds, freqs = mne.time_frequency.psd_multitaper(raw, fmin=8, fmax=12, tmin=0, tmax=None, n_jobs=1)"
   ]
  },
  {
   "cell_type": "code",
   "execution_count": null,
   "id": "03ff2fc0",
   "metadata": {},
   "outputs": [],
   "source": []
  }
 ],
 "metadata": {
  "kernelspec": {
   "display_name": "Python 3 (ipykernel)",
   "language": "python",
   "name": "python3"
  },
  "language_info": {
   "codemirror_mode": {
    "name": "ipython",
    "version": 3
   },
   "file_extension": ".py",
   "mimetype": "text/x-python",
   "name": "python",
   "nbconvert_exporter": "python",
   "pygments_lexer": "ipython3",
   "version": "3.10.4"
  }
 },
 "nbformat": 4,
 "nbformat_minor": 5
}
