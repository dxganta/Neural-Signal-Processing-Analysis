{
 "cells": [
  {
   "cell_type": "code",
   "execution_count": 26,
   "id": "fb3cef01",
   "metadata": {},
   "outputs": [],
   "source": [
    "import scipy.io\n",
    "import numpy as np\n",
    "import matplotlib.pyplot as plt\n",
    "from scipy.signal import filtfilt\n",
    "from mne.viz import plot_topomap\n",
    "\n",
    "\n",
    "data = scipy.io.loadmat('../sampleEEGdata.mat')\n",
    "data = data['EEG']\n",
    "times = data['times'][0][0][0].T\n",
    "srate = data['srate'][0][0][0][0]\n",
    "eeg = data['data'][0][0]"
   ]
  },
  {
   "cell_type": "code",
   "execution_count": 28,
   "id": "cbb3c3d8",
   "metadata": {},
   "outputs": [],
   "source": [
    "def pol2cart(theta, rho):\n",
    "    theta_rad = np.deg2rad(theta)\n",
    "    x = rho * np.cos(theta_rad)\n",
    "    y = rho * np.sin(theta_rad)\n",
    "    return x, y\n",
    "\n",
    "head_rad = 0.095\n",
    "plot_rad = 0.51\n",
    "squeezefac = head_rad/plot_rad\n",
    "\n",
    "eeg_chanlocs = []\n",
    "for i in range(64):\n",
    "    local_chanloc = []\n",
    "    x = list(data['chanlocs'][0][0][0][i])\n",
    "    th = x[1][0][0]\n",
    "    rd = x[2][0][0]\n",
    "    \n",
    "    th, rd = pol2cart(th,rd)\n",
    "    eeg_chanlocs.append([rd * squeezefac,th*squeezefac])\n",
    "\n",
    "eeg_chanlocs = np.array(eeg_chanlocs)"
   ]
  },
  {
   "cell_type": "code",
   "execution_count": 44,
   "id": "0f4ac579",
   "metadata": {},
   "outputs": [
    {
     "data": {
      "text/plain": [
       "[3.079837,\n",
       " 3.3939016,\n",
       " 5.4368477,\n",
       " 6.2624297,\n",
       " 4.5129433,\n",
       " 4.4504547,\n",
       " 4.3978696,\n",
       " 3.9548123,\n",
       " 4.6180806,\n",
       " 6.2973695,\n",
       " 6.551554,\n",
       " 7.241378,\n",
       " 6.496111,\n",
       " 5.4527802,\n",
       " 4.529094,\n",
       " 5.3080425,\n",
       " 6.8991346,\n",
       " 8.336216,\n",
       " 8.627194,\n",
       " 9.485788,\n",
       " 9.671934,\n",
       " 7.9441977,\n",
       " 7.9888754,\n",
       " 4.124524,\n",
       " 8.960379,\n",
       " 12.381991,\n",
       " 9.050076,\n",
       " 5.506485,\n",
       " 8.986467,\n",
       " 11.157245,\n",
       " 9.11095,\n",
       " 8.370706,\n",
       " 2.6947381,\n",
       " 1.9437789,\n",
       " 3.1195877,\n",
       " 3.5816295,\n",
       " 4.51411,\n",
       " 5.7254844,\n",
       " 5.5855026,\n",
       " 4.6088758,\n",
       " 4.1001897,\n",
       " 4.111797,\n",
       " 3.8206785,\n",
       " 4.3368897,\n",
       " 4.3560905,\n",
       " 6.0653768,\n",
       " 6.7902517,\n",
       " 6.7387586,\n",
       " 6.298712,\n",
       " 5.1444917,\n",
       " 5.0314655,\n",
       " 4.062619,\n",
       " 5.062192,\n",
       " 5.909354,\n",
       " 5.779381,\n",
       " 6.8998566,\n",
       " 8.252948,\n",
       " 7.530639,\n",
       " 7.0754547,\n",
       " 7.5303836,\n",
       " 4.246315,\n",
       " 8.164463,\n",
       " 9.522413,\n",
       " 7.0113254]"
      ]
     },
     "execution_count": 44,
     "metadata": {},
     "output_type": "execute_result"
    }
   ],
   "source": [
    "def time_to_id(time2plot):\n",
    "    # convert time in ms to time in indices\n",
    "    return np.argmin(np.abs(times - time2plot))\n",
    "\n",
    "timing_idxs = [time_to_id(100), time_to_id(400)]\n",
    "erp = np.mean(eeg, axis=2)\n",
    "erp = erp[:, timing_idxs[0] : timing_idxs[1]]\n",
    "peak_erp_idxs = np.argmax(erp, axis=1)\n",
    "\n",
    "# peak_times = []\n",
    "# for i in range(64):\n",
    "#     peak_times.append(erp[i, peak_erp_idxs[i]])\n",
    "    \n",
    "peak_times\n",
    "# print(peak_times)\n",
    "# times.shape\n",
    "# fig, ax = plt.subplots(figsize=(8,8))\n",
    "# im, _ = plot_topomap(peak_times, eeg_chanlocs, axes=ax, show=False, \n",
    "#                      cmap='RdBu_r', ch_type='eeg', size = 200,\n",
    "#                     contours=6, vlim=(100,400))\n",
    "# plt.colorbar(im)\n",
    "\n",
    "# # Add a title\n",
    "# plt.title('ERP peak times (100-400 ms)')\n",
    "# plt.show()"
   ]
  },
  {
   "cell_type": "code",
   "execution_count": 41,
   "id": "efeb9115",
   "metadata": {},
   "outputs": [
    {
     "data": {
      "text/plain": [
       "-1.7789302"
      ]
     },
     "execution_count": 41,
     "metadata": {},
     "output_type": "execute_result"
    }
   ],
   "source": [
    "erp[0, 2]"
   ]
  }
 ],
 "metadata": {
  "kernelspec": {
   "display_name": "Python 3 (ipykernel)",
   "language": "python",
   "name": "python3"
  },
  "language_info": {
   "codemirror_mode": {
    "name": "ipython",
    "version": 3
   },
   "file_extension": ".py",
   "mimetype": "text/x-python",
   "name": "python",
   "nbconvert_exporter": "python",
   "pygments_lexer": "ipython3",
   "version": "3.10.4"
  }
 },
 "nbformat": 4,
 "nbformat_minor": 5
}
