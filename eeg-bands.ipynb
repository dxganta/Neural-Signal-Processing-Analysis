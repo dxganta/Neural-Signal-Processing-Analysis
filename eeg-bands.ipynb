{
 "cells": [
  {
   "cell_type": "code",
   "execution_count": 26,
   "id": "a44e6020",
   "metadata": {},
   "outputs": [],
   "source": [
    "import muselsl\n",
    "import vispy\n",
    "import pandas as pd\n",
    "import os"
   ]
  },
  {
   "cell_type": "code",
   "execution_count": 45,
   "id": "73c6da87",
   "metadata": {},
   "outputs": [
    {
     "name": "stdout",
     "output_type": "stream",
     "text": [
      "Looking for a EEG stream...\r\n",
      "\u001b[0m\u001b[2m2023-04-12 15:25:25.812 (   0.733s) [          6AE6C2]      netinterfaces.cpp:91    INFO| \u001b[0mnetif 'lo0' (status: 32768, multicast: 1, broadcast: 0)\u001b[0m\r\n",
      "\u001b[0m\u001b[2m2023-04-12 15:25:25.812 (   0.733s) [          6AE6C2]      netinterfaces.cpp:91    INFO| \u001b[0mnetif 'lo0' (status: 32768, multicast: 1, broadcast: 0)\u001b[0m\r\n",
      "\u001b[0m\u001b[2m2023-04-12 15:25:25.812 (   0.733s) [          6AE6C2]      netinterfaces.cpp:102   INFO| \u001b[0m\tIPv4 addr: 7f000001\u001b[0m\r\n",
      "\u001b[0m\u001b[2m2023-04-12 15:25:25.812 (   0.734s) [          6AE6C2]      netinterfaces.cpp:91    INFO| \u001b[0mnetif 'lo0' (status: 32768, multicast: 1, broadcast: 0)\u001b[0m\r\n",
      "\u001b[0m\u001b[2m2023-04-12 15:25:25.812 (   0.734s) [          6AE6C2]      netinterfaces.cpp:105   INFO| \u001b[0m\tIPv6 addr: ::1\u001b[0m\r\n",
      "\u001b[0m\u001b[2m2023-04-12 15:25:25.812 (   0.734s) [          6AE6C2]      netinterfaces.cpp:91    INFO| \u001b[0mnetif 'lo0' (status: 32768, multicast: 1, broadcast: 0)\u001b[0m\r\n",
      "\u001b[0m\u001b[2m2023-04-12 15:25:25.812 (   0.734s) [          6AE6C2]      netinterfaces.cpp:105   INFO| \u001b[0m\tIPv6 addr: fe80::1%lo0\u001b[0m\r\n",
      "\u001b[0m\u001b[2m2023-04-12 15:25:25.812 (   0.734s) [          6AE6C2]      netinterfaces.cpp:91    INFO| \u001b[0mnetif 'gif0' (status: 32768, multicast: 0, broadcast: 0)\u001b[0m\r\n",
      "\u001b[0m\u001b[2m2023-04-12 15:25:25.812 (   0.734s) [          6AE6C2]      netinterfaces.cpp:91    INFO| \u001b[0mnetif 'stf0' (status: 0, multicast: 0, broadcast: 0)\u001b[0m\r\n",
      "\u001b[0m\u001b[2m2023-04-12 15:25:25.812 (   0.734s) [          6AE6C2]      netinterfaces.cpp:91    INFO| \u001b[0mnetif 'anpi0' (status: 32768, multicast: 1, broadcast: 2)\u001b[0m\r\n",
      "\u001b[0m\u001b[2m2023-04-12 15:25:25.812 (   0.734s) [          6AE6C2]      netinterfaces.cpp:91    INFO| \u001b[0mnetif 'anpi0' (status: 32768, multicast: 1, broadcast: 2)\u001b[0m\r\n",
      "\u001b[0m\u001b[2m2023-04-12 15:25:25.812 (   0.734s) [          6AE6C2]      netinterfaces.cpp:105   INFO| \u001b[0m\tIPv6 addr: fe80::c1e:fcff:fe37:a05f%anpi0\u001b[0m\r\n",
      "\u001b[0m\u001b[2m2023-04-12 15:25:25.813 (   0.734s) [          6AE6C2]      netinterfaces.cpp:91    INFO| \u001b[0mnetif 'anpi1' (status: 32768, multicast: 1, broadcast: 2)\u001b[0m\r\n",
      "\u001b[0m\u001b[2m2023-04-12 15:25:25.813 (   0.734s) [          6AE6C2]      netinterfaces.cpp:91    INFO| \u001b[0mnetif 'anpi1' (status: 32768, multicast: 1, broadcast: 2)\u001b[0m\r\n",
      "\u001b[0m\u001b[2m2023-04-12 15:25:25.813 (   0.734s) [          6AE6C2]      netinterfaces.cpp:105   INFO| \u001b[0m\tIPv6 addr: fe80::c1e:fcff:fe37:a060%anpi1\u001b[0m\r\n",
      "\u001b[0m\u001b[2m2023-04-12 15:25:25.813 (   0.734s) [          6AE6C2]      netinterfaces.cpp:91    INFO| \u001b[0mnetif 'en3' (status: 32768, multicast: 1, broadcast: 2)\u001b[0m\r\n",
      "\u001b[0m\u001b[2m2023-04-12 15:25:25.813 (   0.734s) [          6AE6C2]      netinterfaces.cpp:91    INFO| \u001b[0mnetif 'en4' (status: 32768, multicast: 1, broadcast: 2)\u001b[0m\r\n",
      "\u001b[0m\u001b[2m2023-04-12 15:25:25.813 (   0.734s) [          6AE6C2]      netinterfaces.cpp:91    INFO| \u001b[0mnetif 'en1' (status: 32768, multicast: 1, broadcast: 2)\u001b[0m\r\n",
      "\u001b[0m\u001b[2m2023-04-12 15:25:25.813 (   0.734s) [          6AE6C2]      netinterfaces.cpp:91    INFO| \u001b[0mnetif 'en2' (status: 32768, multicast: 1, broadcast: 2)\u001b[0m\r\n",
      "\u001b[0m\u001b[2m2023-04-12 15:25:25.813 (   0.734s) [          6AE6C2]      netinterfaces.cpp:91    INFO| \u001b[0mnetif 'bridge0' (status: 32768, multicast: 1, broadcast: 2)\u001b[0m\r\n",
      "\u001b[0m\u001b[2m2023-04-12 15:25:25.813 (   0.734s) [          6AE6C2]      netinterfaces.cpp:91    INFO| \u001b[0mnetif 'ap1' (status: 32768, multicast: 1, broadcast: 2)\u001b[0m\r\n",
      "\u001b[0m\u001b[2m2023-04-12 15:25:25.813 (   0.734s) [          6AE6C2]      netinterfaces.cpp:91    INFO| \u001b[0mnetif 'ap1' (status: 32768, multicast: 1, broadcast: 2)\u001b[0m\r\n",
      "\u001b[0m\u001b[2m2023-04-12 15:25:25.813 (   0.734s) [          6AE6C2]      netinterfaces.cpp:105   INFO| \u001b[0m\tIPv6 addr: fe80::f457:63ff:fed3:db9b%ap1\u001b[0m\r\n",
      "\u001b[0m\u001b[2m2023-04-12 15:25:25.813 (   0.734s) [          6AE6C2]      netinterfaces.cpp:91    INFO| \u001b[0mnetif 'en0' (status: 32768, multicast: 1, broadcast: 2)\u001b[0m\r\n",
      "\u001b[0m\u001b[2m2023-04-12 15:25:25.813 (   0.734s) [          6AE6C2]      netinterfaces.cpp:91    INFO| \u001b[0mnetif 'en0' (status: 32768, multicast: 1, broadcast: 2)\u001b[0m\r\n",
      "\u001b[0m\u001b[2m2023-04-12 15:25:25.813 (   0.734s) [          6AE6C2]      netinterfaces.cpp:105   INFO| \u001b[0m\tIPv6 addr: fe80::14b6:db3e:517a:2c72%en0\u001b[0m\r\n",
      "\u001b[0m\u001b[2m2023-04-12 15:25:25.813 (   0.734s) [          6AE6C2]      netinterfaces.cpp:91    INFO| \u001b[0mnetif 'en0' (status: 32768, multicast: 1, broadcast: 2)\u001b[0m\r\n",
      "\u001b[0m\u001b[2m2023-04-12 15:25:25.813 (   0.734s) [          6AE6C2]      netinterfaces.cpp:105   INFO| \u001b[0m\tIPv6 addr: 2401:4900:1c17:3272:483:eed5:e5b5:11c7\u001b[0m\r\n",
      "\u001b[0m\u001b[2m2023-04-12 15:25:25.813 (   0.734s) [          6AE6C2]      netinterfaces.cpp:91    INFO| \u001b[0mnetif 'en0' (status: 32768, multicast: 1, broadcast: 2)\u001b[0m\r\n",
      "\u001b[0m\u001b[2m2023-04-12 15:25:25.813 (   0.734s) [          6AE6C2]      netinterfaces.cpp:105   INFO| \u001b[0m\tIPv6 addr: 2401:4900:1c17:3272:edc3:fc54:eb5:4b20\u001b[0m\r\n",
      "\u001b[0m\u001b[2m2023-04-12 15:25:25.813 (   0.734s) [          6AE6C2]      netinterfaces.cpp:91    INFO| \u001b[0mnetif 'en0' (status: 32768, multicast: 1, broadcast: 2)\u001b[0m\r\n",
      "\u001b[0m\u001b[2m2023-04-12 15:25:25.813 (   0.734s) [          6AE6C2]      netinterfaces.cpp:102   INFO| \u001b[0m\tIPv4 addr: c0a80105\u001b[0m\r\n",
      "\u001b[0m\u001b[2m2023-04-12 15:25:25.813 (   0.734s) [          6AE6C2]      netinterfaces.cpp:91    INFO| \u001b[0mnetif 'awdl0' (status: 32768, multicast: 1, broadcast: 2)\u001b[0m\r\n",
      "\u001b[0m\u001b[2m2023-04-12 15:25:25.813 (   0.734s) [          6AE6C2]      netinterfaces.cpp:91    INFO| \u001b[0mnetif 'awdl0' (status: 32768, multicast: 1, broadcast: 2)\u001b[0m\r\n",
      "\u001b[0m\u001b[2m2023-04-12 15:25:25.813 (   0.734s) [          6AE6C2]      netinterfaces.cpp:105   INFO| \u001b[0m\tIPv6 addr: fe80::8c37:45ff:fe6f:d3a6%awdl0\u001b[0m\r\n",
      "\u001b[0m\u001b[2m2023-04-12 15:25:25.813 (   0.734s) [          6AE6C2]      netinterfaces.cpp:91    INFO| \u001b[0mnetif 'llw0' (status: 32768, multicast: 1, broadcast: 2)\u001b[0m\r\n",
      "\u001b[0m\u001b[2m2023-04-12 15:25:25.813 (   0.734s) [          6AE6C2]      netinterfaces.cpp:91    INFO| \u001b[0mnetif 'llw0' (status: 32768, multicast: 1, broadcast: 2)\u001b[0m\r\n",
      "\u001b[0m\u001b[2m2023-04-12 15:25:25.813 (   0.734s) [          6AE6C2]      netinterfaces.cpp:105   INFO| \u001b[0m\tIPv6 addr: fe80::8c37:45ff:fe6f:d3a6%llw0\u001b[0m\r\n",
      "\u001b[0m\u001b[2m2023-04-12 15:25:25.813 (   0.734s) [          6AE6C2]      netinterfaces.cpp:91    INFO| \u001b[0mnetif 'utun0' (status: 32768, multicast: 1, broadcast: 0)\u001b[0m\r\n",
      "\u001b[0m\u001b[2m2023-04-12 15:25:25.813 (   0.734s) [          6AE6C2]      netinterfaces.cpp:91    INFO| \u001b[0mnetif 'utun0' (status: 32768, multicast: 1, broadcast: 0)\u001b[0m\r\n",
      "\u001b[0m\u001b[2m2023-04-12 15:25:25.813 (   0.734s) [          6AE6C2]      netinterfaces.cpp:105   INFO| \u001b[0m\tIPv6 addr: fe80::e84c:566c:a000:d9e4%utun0\u001b[0m\r\n",
      "\u001b[0m\u001b[2m2023-04-12 15:25:25.813 (   0.734s) [          6AE6C2]      netinterfaces.cpp:91    INFO| \u001b[0mnetif 'utun1' (status: 32768, multicast: 1, broadcast: 0)\u001b[0m\r\n",
      "\u001b[0m\u001b[2m2023-04-12 15:25:25.813 (   0.734s) [          6AE6C2]      netinterfaces.cpp:91    INFO| \u001b[0mnetif 'utun1' (status: 32768, multicast: 1, broadcast: 0)\u001b[0m\r\n",
      "\u001b[0m\u001b[2m2023-04-12 15:25:25.813 (   0.734s) [          6AE6C2]      netinterfaces.cpp:105   INFO| \u001b[0m\tIPv6 addr: fe80::ce81:b1c:bd2c:69e%utun1\u001b[0m\r\n",
      "\u001b[0m\u001b[2m2023-04-12 15:25:25.813 (   0.734s) [          6AE6C2]      netinterfaces.cpp:91    INFO| \u001b[0mnetif 'utun2' (status: 32768, multicast: 1, broadcast: 0)\u001b[0m\r\n",
      "\u001b[0m\u001b[2m2023-04-12 15:25:25.813 (   0.734s) [          6AE6C2]      netinterfaces.cpp:91    INFO| \u001b[0mnetif 'utun2' (status: 32768, multicast: 1, broadcast: 0)\u001b[0m\r\n",
      "\u001b[0m\u001b[2m2023-04-12 15:25:25.813 (   0.734s) [          6AE6C2]      netinterfaces.cpp:105   INFO| \u001b[0m\tIPv6 addr: fe80::3bac:aaba:fef8:ba04%utun2\u001b[0m\r\n",
      "\u001b[0m\u001b[2m2023-04-12 15:25:25.813 (   0.735s) [          6AE6C2]      netinterfaces.cpp:91    INFO| \u001b[0mnetif 'utun3' (status: 32768, multicast: 1, broadcast: 0)\u001b[0m\r\n",
      "\u001b[0m\u001b[2m2023-04-12 15:25:25.813 (   0.735s) [          6AE6C2]      netinterfaces.cpp:91    INFO| \u001b[0mnetif 'utun3' (status: 32768, multicast: 1, broadcast: 0)\u001b[0m\r\n",
      "\u001b[0m\u001b[2m2023-04-12 15:25:25.813 (   0.735s) [          6AE6C2]      netinterfaces.cpp:105   INFO| \u001b[0m\tIPv6 addr: fe80::588e:8ec9:1f17:ada%utun3\u001b[0m\r\n",
      "\u001b[0m\u001b[2m2023-04-12 15:25:25.813 (   0.735s) [          6AE6C2]      netinterfaces.cpp:91    INFO| \u001b[0mnetif 'utun4' (status: 32768, multicast: 1, broadcast: 0)\u001b[0m\r\n",
      "\u001b[0m\u001b[2m2023-04-12 15:25:25.813 (   0.735s) [          6AE6C2]      netinterfaces.cpp:91    INFO| \u001b[0mnetif 'utun4' (status: 32768, multicast: 1, broadcast: 0)\u001b[0m\r\n",
      "\u001b[0m\u001b[2m2023-04-12 15:25:25.813 (   0.735s) [          6AE6C2]      netinterfaces.cpp:105   INFO| \u001b[0m\tIPv6 addr: fe80::f192:ac86:9022:4964%utun4\u001b[0m\r\n",
      "\u001b[0m\u001b[2m2023-04-12 15:25:25.814 (   0.735s) [          6AE6C2]         api_config.cpp:270   INFO| \u001b[0mLoaded default config\u001b[0m\r\n",
      "Started acquiring data.\r\n",
      "\u001b[0m\u001b[2m2023-04-12 15:25:25.815 (   0.736s) [          6AE6C2]             common.cpp:65    INFO| \u001b[0mgit:v1.16.1/branch:master/build:Release/compiler:AppleClang-14.0.0.14000029/link:SHARED\u001b[0m\r\n",
      "Looking for a Markers stream...\r\n"
     ]
    },
    {
     "name": "stdout",
     "output_type": "stream",
     "text": [
      "Can't find Markers stream.\n",
      "Start recording at time t=1681293330.820\n",
      "Time correction:  -0.00020368769764900208\n",
      "Time correction:  -0.00021997862495481968\n",
      "Done - wrote file: /Users/diganta/Desktop/BCI/eeg-frequency-bands/EEG_recording_2023-04-12-09.55.25.csv\n"
     ]
    }
   ],
   "source": [
    "!muselsl record --duration 30"
   ]
  },
  {
   "cell_type": "code",
   "execution_count": 24,
   "id": "6d5401c1",
   "metadata": {},
   "outputs": [
    {
     "name": "stdout",
     "output_type": "stream",
     "text": [
      "EEG_recording_2023-04-12-09.09.57.csv README.md\r\n",
      "EEG_recording_2023-04-12-09.11.08.csv eeg-bands.ipynb\r\n",
      "EEG_recording_2023-04-12-09.12.24.csv\r\n"
     ]
    }
   ],
   "source": [
    "!ls"
   ]
  },
  {
   "cell_type": "code",
   "execution_count": 37,
   "id": "87aa5cad",
   "metadata": {},
   "outputs": [],
   "source": [
    "data_5s = pd.read_csv('EEG_recording_2023-04-12-09.09.57.csv', index_col='timestamps', usecols=[0,1,2,3,4])\n",
    "data_10s = pd.read_csv('EEG_recording_2023-04-12-09.12.24.csv', index_col='timestamps', usecols=[0,1,2,3,4])\n",
    "data_30s = pd.read_csv('EEG_recording_2023-04-12-09.11.08.csv', index_col='timestamps', usecols=[0,1,2,3,4])"
   ]
  },
  {
   "cell_type": "code",
   "execution_count": 40,
   "id": "5802d4f7",
   "metadata": {},
   "outputs": [
    {
     "name": "stdout",
     "output_type": "stream",
     "text": [
      "<class 'pandas.core.frame.DataFrame'>\n",
      "Float64Index: 12 entries, 1681290603.044 to 1681290603.087\n",
      "Data columns (total 4 columns):\n",
      " #   Column  Non-Null Count  Dtype  \n",
      "---  ------  --------------  -----  \n",
      " 0   TP9     12 non-null     float64\n",
      " 1   AF7     12 non-null     float64\n",
      " 2   AF8     12 non-null     float64\n",
      " 3   TP10    12 non-null     float64\n",
      "dtypes: float64(4)\n",
      "memory usage: 480.0 bytes\n",
      "<class 'pandas.core.frame.DataFrame'>\n",
      "Float64Index: 1296 entries, 1681290749.943 to 1681290755.002\n",
      "Data columns (total 4 columns):\n",
      " #   Column  Non-Null Count  Dtype  \n",
      "---  ------  --------------  -----  \n",
      " 0   TP9     1296 non-null   float64\n",
      " 1   AF7     1296 non-null   float64\n",
      " 2   AF8     1296 non-null   float64\n",
      " 3   TP10    1296 non-null   float64\n",
      "dtypes: float64(4)\n",
      "memory usage: 50.6 KB\n",
      "<class 'pandas.core.frame.DataFrame'>\n",
      "Float64Index: 6432 entries, 1681290673.635 to 1681290698.754\n",
      "Data columns (total 4 columns):\n",
      " #   Column  Non-Null Count  Dtype  \n",
      "---  ------  --------------  -----  \n",
      " 0   TP9     6432 non-null   float64\n",
      " 1   AF7     6432 non-null   float64\n",
      " 2   AF8     6432 non-null   float64\n",
      " 3   TP10    6432 non-null   float64\n",
      "dtypes: float64(4)\n",
      "memory usage: 251.2 KB\n"
     ]
    },
    {
     "data": {
      "text/plain": [
       "(None, None, None)"
      ]
     },
     "execution_count": 40,
     "metadata": {},
     "output_type": "execute_result"
    }
   ],
   "source": [
    "data_5s.info(), data_10s.info(), data_30s.info()"
   ]
  },
  {
   "cell_type": "code",
   "execution_count": 42,
   "id": "210e0e68",
   "metadata": {},
   "outputs": [
    {
     "data": {
      "text/html": [
       "<div>\n",
       "<style scoped>\n",
       "    .dataframe tbody tr th:only-of-type {\n",
       "        vertical-align: middle;\n",
       "    }\n",
       "\n",
       "    .dataframe tbody tr th {\n",
       "        vertical-align: top;\n",
       "    }\n",
       "\n",
       "    .dataframe thead th {\n",
       "        text-align: right;\n",
       "    }\n",
       "</style>\n",
       "<table border=\"1\" class=\"dataframe\">\n",
       "  <thead>\n",
       "    <tr style=\"text-align: right;\">\n",
       "      <th></th>\n",
       "      <th>TP9</th>\n",
       "      <th>AF7</th>\n",
       "      <th>AF8</th>\n",
       "      <th>TP10</th>\n",
       "    </tr>\n",
       "    <tr>\n",
       "      <th>timestamps</th>\n",
       "      <th></th>\n",
       "      <th></th>\n",
       "      <th></th>\n",
       "      <th></th>\n",
       "    </tr>\n",
       "  </thead>\n",
       "  <tbody>\n",
       "    <tr>\n",
       "      <th>1.681291e+09</th>\n",
       "      <td>-35.156</td>\n",
       "      <td>-41.992</td>\n",
       "      <td>143.066</td>\n",
       "      <td>-33.691</td>\n",
       "    </tr>\n",
       "    <tr>\n",
       "      <th>1.681291e+09</th>\n",
       "      <td>-37.109</td>\n",
       "      <td>-41.992</td>\n",
       "      <td>138.672</td>\n",
       "      <td>-33.691</td>\n",
       "    </tr>\n",
       "    <tr>\n",
       "      <th>1.681291e+09</th>\n",
       "      <td>-28.809</td>\n",
       "      <td>-43.945</td>\n",
       "      <td>138.184</td>\n",
       "      <td>-24.902</td>\n",
       "    </tr>\n",
       "    <tr>\n",
       "      <th>1.681291e+09</th>\n",
       "      <td>-34.180</td>\n",
       "      <td>-43.457</td>\n",
       "      <td>127.930</td>\n",
       "      <td>-26.855</td>\n",
       "    </tr>\n",
       "    <tr>\n",
       "      <th>1.681291e+09</th>\n",
       "      <td>-36.133</td>\n",
       "      <td>-43.945</td>\n",
       "      <td>129.395</td>\n",
       "      <td>-32.715</td>\n",
       "    </tr>\n",
       "  </tbody>\n",
       "</table>\n",
       "</div>"
      ],
      "text/plain": [
       "                 TP9     AF7      AF8    TP10\n",
       "timestamps                                   \n",
       "1.681291e+09 -35.156 -41.992  143.066 -33.691\n",
       "1.681291e+09 -37.109 -41.992  138.672 -33.691\n",
       "1.681291e+09 -28.809 -43.945  138.184 -24.902\n",
       "1.681291e+09 -34.180 -43.457  127.930 -26.855\n",
       "1.681291e+09 -36.133 -43.945  129.395 -32.715"
      ]
     },
     "execution_count": 42,
     "metadata": {},
     "output_type": "execute_result"
    }
   ],
   "source": [
    "data_10s.head()"
   ]
  },
  {
   "cell_type": "code",
   "execution_count": 47,
   "id": "90eab394",
   "metadata": {},
   "outputs": [
    {
     "data": {
      "image/png": "[encoded data removed]",
      "text/plain": [
       "<Figure size 432x288 with 1 Axes>"
      ]
     },
     "metadata": {
      "needs_background": "light"
     },
     "output_type": "display_data"
    }
   ],
   "source": [
    "import numpy as np\n",
    "from scipy.fft import fft\n",
    "\n",
    "# Generate a random EEG signal\n",
    "t = np.linspace(0, 10, 2560)\n",
    "f1 = 5  # alpha frequency in Hz\n",
    "f2 = 10  # beta frequency in Hz\n",
    "x = np.sin(2 * np.pi * f1 * t) + np.sin(2 * np.pi * f2 * t) + np.random.randn(len(t))\n",
    "\n",
    "# Compute the FFT\n",
    "X = fft(x)\n",
    "\n",
    "# Plot the amplitude spectrum\n",
    "import matplotlib.pyplot as plt\n",
    "freqs = np.fft.fftfreq(len(x), t[1]-t[0])\n",
    "plt.plot(freqs[:len(freqs)//2], np.abs(X[:len(X)//2]))\n",
    "plt.xlabel('Frequency (Hz)')\n",
    "plt.ylabel('Amplitude')\n",
    "plt.show()\n"
   ]
  },
  {
   "cell_type": "code",
   "execution_count": null,
   "id": "24756f40",
   "metadata": {},
   "outputs": [],
   "source": []
  }
 ],
 "metadata": {
  "kernelspec": {
   "display_name": "Python 3 (ipykernel)",
   "language": "python",
   "name": "python3"
  },
  "language_info": {
   "codemirror_mode": {
    "name": "ipython",
    "version": 3
   },
   "file_extension": ".py",
   "mimetype": "text/x-python",
   "name": "python",
   "nbconvert_exporter": "python",
   "pygments_lexer": "ipython3",
   "version": "3.10.4"
  }
 },
 "nbformat": 4,
 "nbformat_minor": 5
}
